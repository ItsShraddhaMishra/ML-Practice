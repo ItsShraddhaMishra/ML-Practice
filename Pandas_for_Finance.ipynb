{
 "cells": [
  {
   "cell_type": "markdown",
   "metadata": {
    "id": "AB1GXrBfjD6e"
   },
   "source": [
    "Yahoo! Finance has changed slightly their structure (Not supporting DataReader()). Now requires headers for the data retreival on the http request. Once done works fine.\n",
    "For pandas & pandas-datareader which you'll need to upgrade them if you use it. (Which has been already sorted). Probably on all other packages using data from yahoo! such backtrader, etc, you'll need either upgrade or add headers on the yahoo! script to retrieve data :).\n",
    "\n",
    "pip install --upgrade pandas\n",
    "pip install --upgrade pandas-datareader\n",
    "\n",
    "\n",
    "import pandas as pd\n",
    "import requests\n",
    "link = 'https://finance.yahoo.com/quote/GOOG/history?period1=1420065000&period2=1609453799&interval=1d&frequency=1d&filter=history'\n",
    "r = requests.get(link, headers = {'User-Agent':'Mozilla/5.0 (Windows NT 10.0; Win64; x64) AppleWebKit/537.36 (KHTML, like Gecko) Chrome/91.0.4472.124 Safari/537.36'})\n",
    "pandas_data = pd.read_html(r.text)\n",
    "print(pandas_data)\n",
    "\n",
    "\n"
   ]
  },
  {
   "cell_type": "code",
   "execution_count": 1,
   "metadata": {
    "colab": {
     "base_uri": "https://localhost:8080/"
    },
    "id": "JoI6Ghz4fWJr",
    "outputId": "daf4324f-a5f9-4675-8ef5-1361c650a354"
   },
   "outputs": [],
   "source": [
    "import pandas as pd\n",
    "import pandas_datareader.data as web\n",
    "import requests\n",
    "import datetime\n",
    "##!pip install yfinance\n",
    "#!pip install fix_yahoo_finance\n",
    "import yfinance as yf\n",
    "%matplotlib inline\n",
    "\n",
    "yf.pdr_override()"
   ]
  },
  {
   "cell_type": "markdown",
   "metadata": {
    "id": "5KUdG6kyjCUC"
   },
   "source": []
  },
  {
   "cell_type": "code",
   "execution_count": 6,
   "metadata": {
    "colab": {
     "base_uri": "https://localhost:8080/"
    },
    "id": "mNLGcNIkf-kC",
    "outputId": "6770bc33-7d5e-4814-d28e-b9eca260ddb8"
   },
   "outputs": [
    {
     "name": "stdout",
     "output_type": "stream",
     "text": [
      "Type <class 'requests.models.Response'>\n",
      "[                                                 Date  \\\n",
      "0                                        Jan 11, 2017   \n",
      "1                                        Jan 10, 2017   \n",
      "2                                        Jan 09, 2017   \n",
      "3                                        Jan 06, 2017   \n",
      "4                                        Jan 05, 2017   \n",
      "..                                                ...   \n",
      "88                                       Sep 06, 2016   \n",
      "89                                       Sep 05, 2016   \n",
      "90                                       Sep 02, 2016   \n",
      "91                                       Sep 01, 2016   \n",
      "92  *Close price adjusted for splits.**Adjusted cl...   \n",
      "\n",
      "                                                 Open  \\\n",
      "0                                              185.00   \n",
      "1                                              184.50   \n",
      "2                                              184.00   \n",
      "3                                              184.00   \n",
      "4                                              182.00   \n",
      "..                                                ...   \n",
      "88                                             177.00   \n",
      "89                                             176.50   \n",
      "90                                             176.50   \n",
      "91                                             176.00   \n",
      "92  *Close price adjusted for splits.**Adjusted cl...   \n",
      "\n",
      "                                                 High  \\\n",
      "0                                              185.00   \n",
      "1                                              185.50   \n",
      "2                                              185.00   \n",
      "3                                              184.50   \n",
      "4                                              183.50   \n",
      "..                                                ...   \n",
      "88                                             179.00   \n",
      "89                                             177.50   \n",
      "90                                             176.50   \n",
      "91                                             176.00   \n",
      "92  *Close price adjusted for splits.**Adjusted cl...   \n",
      "\n",
      "                                                  Low  \\\n",
      "0                                              181.50   \n",
      "1                                              183.50   \n",
      "2                                              183.00   \n",
      "3                                              183.50   \n",
      "4                                              181.50   \n",
      "..                                                ...   \n",
      "88                                             176.50   \n",
      "89                                             176.50   \n",
      "90                                             174.00   \n",
      "91                                             173.00   \n",
      "92  *Close price adjusted for splits.**Adjusted cl...   \n",
      "\n",
      "                                               Close*  \\\n",
      "0                                              182.00   \n",
      "1                                              184.00   \n",
      "2                                              184.00   \n",
      "3                                              184.00   \n",
      "4                                              183.50   \n",
      "..                                                ...   \n",
      "88                                             178.00   \n",
      "89                                             177.00   \n",
      "90                                             174.00   \n",
      "91                                             174.00   \n",
      "92  *Close price adjusted for splits.**Adjusted cl...   \n",
      "\n",
      "                                          Adj Close**  \\\n",
      "0                                              155.57   \n",
      "1                                              157.28   \n",
      "2                                              157.28   \n",
      "3                                              157.28   \n",
      "4                                              156.86   \n",
      "..                                                ...   \n",
      "88                                             152.16   \n",
      "89                                             151.30   \n",
      "90                                             148.74   \n",
      "91                                             148.74   \n",
      "92  *Close price adjusted for splits.**Adjusted cl...   \n",
      "\n",
      "                                               Volume  \n",
      "0                                            29107000  \n",
      "1                                            20198000  \n",
      "2                                            18569000  \n",
      "3                                            22443000  \n",
      "4                                            20979000  \n",
      "..                                                ...  \n",
      "88                                           26024000  \n",
      "89                                           22381000  \n",
      "90                                           16999000  \n",
      "91                                           22692000  \n",
      "92  *Close price adjusted for splits.**Adjusted cl...  \n",
      "\n",
      "[93 rows x 7 columns]]\n"
     ]
    }
   ],
   "source": [
    "# 用 yahoo finance \n",
    "start = datetime.datetime(2016, 9, 1)\n",
    "end = datetime.datetime(2017, 1, 10)\n",
    "# 台灣股市的話要用 股票代號 加上 .TW\n",
    "link = 'https://finance.yahoo.com/quote/2330.TW/history?period1=1472702400&period2=1484107199&interval=1d&frequency=1d&filter=history'\n",
    "r = requests.get(link, headers = {'User-Agent':'Mozilla/5.0 (Windows NT 10.0; Win64; x64) AppleWebKit/537.36 (KHTML, like Gecko) Chrome/91.0.4472.124 Safari/537.36'})\n",
    "print('Type', type(r))\n",
    "pandas_data = pd.read_html(r.text)\n",
    "print(pandas_data)\n",
    "\n",
    "#df_2330=pd.DataFrame(pandas_data)\n",
    "#df_2330 = web.DataReader('2330.TW', 'yahoo', start, end)   #old code\n",
    "#RemoteDataError: Unable to read URL: https://finance.yahoo.com/quote/2330.TW/history?period1=1472702400&period2=1484107199&interval=1d&frequency=1d&filter=history"
   ]
  },
  {
   "cell_type": "code",
   "execution_count": 9,
   "metadata": {},
   "outputs": [
    {
     "name": "stdout",
     "output_type": "stream",
     "text": [
      "Type <class 'requests.models.Response'>\n",
      "[                                                  Date  \\\n",
      "0                                         Nov 09, 2021   \n",
      "1                                         Nov 08, 2021   \n",
      "2                                         Nov 05, 2021   \n",
      "3                                         Nov 05, 2021   \n",
      "4                                         Nov 04, 2021   \n",
      "..                                                 ...   \n",
      "96                                        Jun 28, 2021   \n",
      "97                                        Jun 25, 2021   \n",
      "98                                        Jun 24, 2021   \n",
      "99                                        Jun 23, 2021   \n",
      "100  *Close price adjusted for splits.**Adjusted cl...   \n",
      "\n",
      "                                                  Open  \\\n",
      "0                                               150.20   \n",
      "1                                               151.41   \n",
      "2                                               151.89   \n",
      "3                                        0.22 Dividend   \n",
      "4                                               151.58   \n",
      "..                                                 ...   \n",
      "96                                              133.41   \n",
      "97                                              133.46   \n",
      "98                                              134.45   \n",
      "99                                              133.77   \n",
      "100  *Close price adjusted for splits.**Adjusted cl...   \n",
      "\n",
      "                                                  High  \\\n",
      "0                                               151.43   \n",
      "1                                               151.57   \n",
      "2                                               152.20   \n",
      "3                                        0.22 Dividend   \n",
      "4                                               152.43   \n",
      "..                                                 ...   \n",
      "96                                              135.25   \n",
      "97                                              133.89   \n",
      "98                                              134.64   \n",
      "99                                              134.32   \n",
      "100  *Close price adjusted for splits.**Adjusted cl...   \n",
      "\n",
      "                                                   Low  \\\n",
      "0                                               150.06   \n",
      "1                                               150.16   \n",
      "2                                               150.06   \n",
      "3                                        0.22 Dividend   \n",
      "4                                               150.64   \n",
      "..                                                 ...   \n",
      "96                                              133.35   \n",
      "97                                              132.81   \n",
      "98                                              132.93   \n",
      "99                                              133.23   \n",
      "100  *Close price adjusted for splits.**Adjusted cl...   \n",
      "\n",
      "                                                Close*  \\\n",
      "0                                               150.81   \n",
      "1                                               150.44   \n",
      "2                                               151.28   \n",
      "3                                        0.22 Dividend   \n",
      "4                                               150.96   \n",
      "..                                                 ...   \n",
      "96                                              134.78   \n",
      "97                                              133.11   \n",
      "98                                              133.41   \n",
      "99                                              133.70   \n",
      "100  *Close price adjusted for splits.**Adjusted cl...   \n",
      "\n",
      "                                           Adj Close**  \\\n",
      "0                                               150.81   \n",
      "1                                               150.44   \n",
      "2                                               151.28   \n",
      "3                                        0.22 Dividend   \n",
      "4                                               150.74   \n",
      "..                                                 ...   \n",
      "96                                              134.38   \n",
      "97                                              132.72   \n",
      "98                                              133.02   \n",
      "99                                              133.31   \n",
      "100  *Close price adjusted for splits.**Adjusted cl...   \n",
      "\n",
      "                                                Volume  \n",
      "0                                             56722500  \n",
      "1                                             55020900  \n",
      "2                                             65414600  \n",
      "3                                        0.22 Dividend  \n",
      "4                                             60394600  \n",
      "..                                                 ...  \n",
      "96                                            62111300  \n",
      "97                                            70783700  \n",
      "98                                            68711000  \n",
      "99                                            60214200  \n",
      "100  *Close price adjusted for splits.**Adjusted cl...  \n",
      "\n",
      "[101 rows x 7 columns]]\n"
     ]
    }
   ],
   "source": [
    "APPL_link = 'https://finance.yahoo.com/quote/AAPL/history?period1=1604966400&period2=1636502400&interval=1d&filter=history&frequency=1d&includeAdjustedClose=true'\n",
    "APPL_r = requests.get(APPL_link, headers = {'User-Agent':'Mozilla/5.0 (Windows NT 10.0; Win64; x64) AppleWebKit/537.36 (KHTML, like Gecko) Chrome/91.0.4472.124 Safari/537.36'})\n",
    "print('Type', type(APPL_r))\n",
    "APPL_pandas_data = pd.read_html(APPL_r.text)\n",
    "print(APPL_pandas_data)"
   ]
  },
  {
   "cell_type": "code",
   "execution_count": 21,
   "metadata": {
    "colab": {
     "base_uri": "https://localhost:8080/"
    },
    "id": "xnFt9rdD3ZbX",
    "outputId": "edc70754-d226-4a42-db16-7073081ade64"
   },
   "outputs": [
    {
     "name": "stderr",
     "output_type": "stream",
     "text": [
      "Exception in thread Thread-11:\n",
      "Traceback (most recent call last):\n",
      "  File \"C:\\Users\\60844\\anaconda3\\envs\\Quantum\\lib\\threading.py\", line 916, in _bootstrap_inner\n",
      "    self.run()\n",
      "  File \"C:\\Users\\60844\\anaconda3\\envs\\Quantum\\lib\\threading.py\", line 864, in run\n",
      "    self._target(*self._args, **self._kwargs)\n",
      "  File \"C:\\Users\\60844\\anaconda3\\envs\\Quantum\\lib\\site-packages\\multitasking\\__init__.py\", line 102, in _run_via_pool\n",
      "    return callee(*args, **kwargs)\n",
      "  File \"C:\\Users\\60844\\anaconda3\\envs\\Quantum\\lib\\site-packages\\yfinance\\multi.py\", line 167, in _download_one_threaded\n",
      "    actions, period, interval, prepost, proxy, rounding)\n",
      "  File \"C:\\Users\\60844\\anaconda3\\envs\\Quantum\\lib\\site-packages\\yfinance\\multi.py\", line 182, in _download_one\n",
      "    rounding=rounding, many=True)\n",
      "  File \"C:\\Users\\60844\\anaconda3\\envs\\Quantum\\lib\\site-packages\\yfinance\\base.py\", line 156, in history\n",
      "    data = data.json()\n",
      "  File \"C:\\Users\\60844\\anaconda3\\envs\\Quantum\\lib\\site-packages\\requests\\models.py\", line 900, in json\n",
      "    return complexjson.loads(self.text, **kwargs)\n",
      "  File \"C:\\Users\\60844\\anaconda3\\envs\\Quantum\\lib\\json\\__init__.py\", line 354, in loads\n",
      "    return _default_decoder.decode(s)\n",
      "  File \"C:\\Users\\60844\\anaconda3\\envs\\Quantum\\lib\\json\\decoder.py\", line 339, in decode\n",
      "    obj, end = self.raw_decode(s, idx=_w(s, 0).end())\n",
      "  File \"C:\\Users\\60844\\anaconda3\\envs\\Quantum\\lib\\json\\decoder.py\", line 357, in raw_decode\n",
      "    raise JSONDecodeError(\"Expecting value\", s, err.value) from None\n",
      "json.decoder.JSONDecodeError: Expecting value: line 1 column 1 (char 0)\n",
      "\n"
     ]
    },
    {
     "ename": "KeyboardInterrupt",
     "evalue": "",
     "output_type": "error",
     "traceback": [
      "\u001b[1;31m---------------------------------------------------------------------------\u001b[0m",
      "\u001b[1;31mKeyboardInterrupt\u001b[0m                         Traceback (most recent call last)",
      "\u001b[1;32m<ipython-input-21-393023470888>\u001b[0m in \u001b[0;36m<module>\u001b[1;34m\u001b[0m\n\u001b[0;32m      1\u001b[0m \u001b[1;31m#start = datetime.datetime(2016, 9, 1)\u001b[0m\u001b[1;33m\u001b[0m\u001b[1;33m\u001b[0m\u001b[1;33m\u001b[0m\u001b[0m\n\u001b[0;32m      2\u001b[0m \u001b[1;31m#end = datetime.datetime(2017, 1, 10)\u001b[0m\u001b[1;33m\u001b[0m\u001b[1;33m\u001b[0m\u001b[1;33m\u001b[0m\u001b[0m\n\u001b[1;32m----> 3\u001b[1;33m \u001b[0mdata\u001b[0m \u001b[1;33m=\u001b[0m \u001b[0mweb\u001b[0m\u001b[1;33m.\u001b[0m\u001b[0mget_data_yahoo\u001b[0m\u001b[1;33m(\u001b[0m\u001b[1;34m\"2330.TW\"\u001b[0m\u001b[1;33m,\u001b[0m \u001b[0mstart\u001b[0m\u001b[1;33m=\u001b[0m\u001b[1;34m\"2016-09-01\"\u001b[0m\u001b[1;33m,\u001b[0m \u001b[0mend\u001b[0m\u001b[1;33m=\u001b[0m\u001b[1;34m\"2017-01-10\"\u001b[0m\u001b[1;33m)\u001b[0m\u001b[1;33m\u001b[0m\u001b[1;33m\u001b[0m\u001b[0m\n\u001b[0m\u001b[0;32m      4\u001b[0m \u001b[0mprint\u001b[0m\u001b[1;33m(\u001b[0m\u001b[1;34m\"data\"\u001b[0m\u001b[1;33m,\u001b[0m \u001b[0mtype\u001b[0m\u001b[1;33m(\u001b[0m\u001b[0mdata\u001b[0m\u001b[1;33m)\u001b[0m\u001b[1;33m)\u001b[0m\u001b[1;33m\u001b[0m\u001b[1;33m\u001b[0m\u001b[0m\n\u001b[0;32m      5\u001b[0m \u001b[0mprint\u001b[0m\u001b[1;33m(\u001b[0m\u001b[0mdata\u001b[0m\u001b[1;33m.\u001b[0m\u001b[0mcount\u001b[0m\u001b[1;33m(\u001b[0m\u001b[1;33m)\u001b[0m\u001b[1;33m)\u001b[0m\u001b[1;33m\u001b[0m\u001b[1;33m\u001b[0m\u001b[0m\n",
      "\u001b[1;32m~\\anaconda3\\envs\\Quantum\\lib\\site-packages\\yfinance\\multi.py\u001b[0m in \u001b[0;36mdownload\u001b[1;34m(tickers, start, end, actions, threads, group_by, auto_adjust, back_adjust, progress, period, interval, prepost, proxy, rounding, **kwargs)\u001b[0m\n\u001b[0;32m     93\u001b[0m                                    rounding=rounding)\n\u001b[0;32m     94\u001b[0m         \u001b[1;32mwhile\u001b[0m \u001b[0mlen\u001b[0m\u001b[1;33m(\u001b[0m\u001b[0mshared\u001b[0m\u001b[1;33m.\u001b[0m\u001b[0m_DFS\u001b[0m\u001b[1;33m)\u001b[0m \u001b[1;33m<\u001b[0m \u001b[0mlen\u001b[0m\u001b[1;33m(\u001b[0m\u001b[0mtickers\u001b[0m\u001b[1;33m)\u001b[0m\u001b[1;33m:\u001b[0m\u001b[1;33m\u001b[0m\u001b[1;33m\u001b[0m\u001b[0m\n\u001b[1;32m---> 95\u001b[1;33m             \u001b[0m_time\u001b[0m\u001b[1;33m.\u001b[0m\u001b[0msleep\u001b[0m\u001b[1;33m(\u001b[0m\u001b[1;36m0.01\u001b[0m\u001b[1;33m)\u001b[0m\u001b[1;33m\u001b[0m\u001b[1;33m\u001b[0m\u001b[0m\n\u001b[0m\u001b[0;32m     96\u001b[0m \u001b[1;33m\u001b[0m\u001b[0m\n\u001b[0;32m     97\u001b[0m     \u001b[1;31m# download synchronously\u001b[0m\u001b[1;33m\u001b[0m\u001b[1;33m\u001b[0m\u001b[1;33m\u001b[0m\u001b[0m\n",
      "\u001b[1;31mKeyboardInterrupt\u001b[0m: "
     ]
    }
   ],
   "source": [
    "\n",
    "#start = datetime.datetime(2016, 9, 1)\n",
    "#end = datetime.datetime(2017, 1, 10)\n",
    "data = web.get_data_yahoo(\"2330.TW\", start=\"2016-09-01\", end=\"2017-01-10\")\n",
    "print(\"data\", type(data))\n",
    "print(data.count())\n",
    "# Alternate way：\n",
    "#tsm = yf.Ticker(‘TSM’)\n",
    "TSM=yf.download('2330.TW',start='2016-09-01',end='2017-01-10')\n",
    "print(\"TSM\", type(TSM))\n",
    "TSM.to_csv('TSM.csv')\n",
    "ReadTSM=pd.read_csv('TSM.csv')\n",
    "\n",
    "#ReadTSM.tail()"
   ]
  },
  {
   "cell_type": "code",
   "execution_count": 22,
   "metadata": {
    "colab": {
     "base_uri": "https://localhost:8080/",
     "height": 514
    },
    "id": "kzKX_DcCKWtF",
    "outputId": "122624e0-015d-42fc-8ba4-890f71d23d55"
   },
   "outputs": [
    {
     "data": {
      "text/plain": [
       "<matplotlib.axes._subplots.AxesSubplot at 0x7f6d888ce290>"
      ]
     },
     "execution_count": 22,
     "metadata": {},
     "output_type": "execute_result"
    },
    {
     "data": {
      "image/png": "[encoded data removed]",
      "text/plain": [
       "<Figure size 864x576 with 1 Axes>"
      ]
     },
     "metadata": {
      "needs_background": "light"
     },
     "output_type": "display_data"
    }
   ],
   "source": [
    "data['Adj Close'].plot(legend=True, figsize=(12,8), title='TSMC', label='Adj Close')"
   ]
  },
  {
   "cell_type": "code",
   "execution_count": 37,
   "metadata": {
    "colab": {
     "base_uri": "https://localhost:8080/",
     "height": 445
    },
    "id": "WybFfKJJWyAI",
    "outputId": "164bb588-3e27-4e43-af2b-0a7bb79dc6b0"
   },
   "outputs": [
    {
     "data": {
      "text/html": [
       "<div>\n",
       "<style scoped>\n",
       "    .dataframe tbody tr th:only-of-type {\n",
       "        vertical-align: middle;\n",
       "    }\n",
       "\n",
       "    .dataframe tbody tr th {\n",
       "        vertical-align: top;\n",
       "    }\n",
       "\n",
       "    .dataframe thead th {\n",
       "        text-align: right;\n",
       "    }\n",
       "</style>\n",
       "<table border=\"1\" class=\"dataframe\">\n",
       "  <thead>\n",
       "    <tr style=\"text-align: right;\">\n",
       "      <th></th>\n",
       "      <th>Date</th>\n",
       "      <th>Open</th>\n",
       "      <th>High</th>\n",
       "      <th>Low</th>\n",
       "      <th>Close</th>\n",
       "      <th>Volume</th>\n",
       "      <th>Ex-Dividend</th>\n",
       "      <th>Split Ratio</th>\n",
       "      <th>Adj. Open</th>\n",
       "      <th>Adj. High</th>\n",
       "      <th>Adj. Low</th>\n",
       "      <th>Adj. Close</th>\n",
       "      <th>Adj. Volume</th>\n",
       "    </tr>\n",
       "  </thead>\n",
       "  <tbody>\n",
       "    <tr>\n",
       "      <th>303</th>\n",
       "      <td>2018-03-21</td>\n",
       "      <td>175.04</td>\n",
       "      <td>175.09</td>\n",
       "      <td>171.26</td>\n",
       "      <td>171.270</td>\n",
       "      <td>35247358.0</td>\n",
       "      <td>0.0</td>\n",
       "      <td>1.0</td>\n",
       "      <td>175.04</td>\n",
       "      <td>175.09</td>\n",
       "      <td>171.26</td>\n",
       "      <td>171.270</td>\n",
       "      <td>35247358.0</td>\n",
       "    </tr>\n",
       "    <tr>\n",
       "      <th>304</th>\n",
       "      <td>2018-03-22</td>\n",
       "      <td>170.00</td>\n",
       "      <td>172.68</td>\n",
       "      <td>168.60</td>\n",
       "      <td>168.845</td>\n",
       "      <td>41051076.0</td>\n",
       "      <td>0.0</td>\n",
       "      <td>1.0</td>\n",
       "      <td>170.00</td>\n",
       "      <td>172.68</td>\n",
       "      <td>168.60</td>\n",
       "      <td>168.845</td>\n",
       "      <td>41051076.0</td>\n",
       "    </tr>\n",
       "    <tr>\n",
       "      <th>305</th>\n",
       "      <td>2018-03-23</td>\n",
       "      <td>168.39</td>\n",
       "      <td>169.92</td>\n",
       "      <td>164.94</td>\n",
       "      <td>164.940</td>\n",
       "      <td>40248954.0</td>\n",
       "      <td>0.0</td>\n",
       "      <td>1.0</td>\n",
       "      <td>168.39</td>\n",
       "      <td>169.92</td>\n",
       "      <td>164.94</td>\n",
       "      <td>164.940</td>\n",
       "      <td>40248954.0</td>\n",
       "    </tr>\n",
       "    <tr>\n",
       "      <th>306</th>\n",
       "      <td>2018-03-26</td>\n",
       "      <td>168.07</td>\n",
       "      <td>173.10</td>\n",
       "      <td>166.44</td>\n",
       "      <td>172.770</td>\n",
       "      <td>36272617.0</td>\n",
       "      <td>0.0</td>\n",
       "      <td>1.0</td>\n",
       "      <td>168.07</td>\n",
       "      <td>173.10</td>\n",
       "      <td>166.44</td>\n",
       "      <td>172.770</td>\n",
       "      <td>36272617.0</td>\n",
       "    </tr>\n",
       "    <tr>\n",
       "      <th>307</th>\n",
       "      <td>2018-03-27</td>\n",
       "      <td>173.68</td>\n",
       "      <td>175.15</td>\n",
       "      <td>166.92</td>\n",
       "      <td>168.340</td>\n",
       "      <td>38962839.0</td>\n",
       "      <td>0.0</td>\n",
       "      <td>1.0</td>\n",
       "      <td>173.68</td>\n",
       "      <td>175.15</td>\n",
       "      <td>166.92</td>\n",
       "      <td>168.340</td>\n",
       "      <td>38962839.0</td>\n",
       "    </tr>\n",
       "  </tbody>\n",
       "</table>\n",
       "</div>"
      ],
      "text/plain": [
       "           Date    Open    High     Low    Close      Volume  Ex-Dividend  \\\n",
       "303  2018-03-21  175.04  175.09  171.26  171.270  35247358.0          0.0   \n",
       "304  2018-03-22  170.00  172.68  168.60  168.845  41051076.0          0.0   \n",
       "305  2018-03-23  168.39  169.92  164.94  164.940  40248954.0          0.0   \n",
       "306  2018-03-26  168.07  173.10  166.44  172.770  36272617.0          0.0   \n",
       "307  2018-03-27  173.68  175.15  166.92  168.340  38962839.0          0.0   \n",
       "\n",
       "     Split Ratio  Adj. Open  Adj. High  Adj. Low  Adj. Close  Adj. Volume  \n",
       "303          1.0     175.04     175.09    171.26     171.270   35247358.0  \n",
       "304          1.0     170.00     172.68    168.60     168.845   41051076.0  \n",
       "305          1.0     168.39     169.92    164.94     164.940   40248954.0  \n",
       "306          1.0     168.07     173.10    166.44     172.770   36272617.0  \n",
       "307          1.0     173.68     175.15    166.92     168.340   38962839.0  "
      ]
     },
     "execution_count": 37,
     "metadata": {},
     "output_type": "execute_result"
    }
   ],
   "source": [
    "#!pip install quandl\n",
    "import quandl\n",
    "#quandl.ApiConfig.api.key = \"YOURAPIKEY\"\n",
    "df = quandl.get(\"WIKI/AAPL\", start_date=\"2017-01-01\", end_date=\"2019-11-5\")\n",
    "df.to_csv('APPL.csv')\n",
    "ReadAPPL=pd.read_csv('APPL.csv')\n",
    "#ReadAPP.dtype()\n",
    "ReadAPPL.tail()"
   ]
  },
  {
   "cell_type": "code",
   "execution_count": 38,
   "metadata": {},
   "outputs": [
    {
     "data": {
      "text/plain": [
       "<matplotlib.axes._subplots.AxesSubplot at 0x1db565dadd8>"
      ]
     },
     "execution_count": 38,
     "metadata": {},
     "output_type": "execute_result"
    },
    {
     "data": {
      "image/png": "[encoded data removed]",
      "text/plain": [
       "<matplotlib.figure.Figure at 0x1db565e64a8>"
      ]
     },
     "metadata": {
      "needs_background": "light"
     },
     "output_type": "display_data"
    }
   ],
   "source": [
    "ReadAPPL['Adj. Close'].plot(legend=True, figsize=(12,8), title='AAPL', label='Adj Close')"
   ]
  },
  {
   "cell_type": "code",
   "execution_count": null,
   "metadata": {},
   "outputs": [],
   "source": []
  }
 ],
 "metadata": {
  "colab": {
   "collapsed_sections": [],
   "name": "Pandas for Finance.ipynb",
   "provenance": []
  },
  "kernelspec": {
   "display_name": "Python 3",
   "language": "python",
   "name": "python3"
  },
  "language_info": {
   "codemirror_mode": {
    "name": "ipython",
    "version": 3
   },
   "file_extension": ".py",
   "mimetype": "text/x-python",
   "name": "python",
   "nbconvert_exporter": "python",
   "pygments_lexer": "ipython3",
   "version": "3.6.13"
  }
 },
 "nbformat": 4,
 "nbformat_minor": 1
}
